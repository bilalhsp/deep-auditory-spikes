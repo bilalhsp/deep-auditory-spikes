{
 "cells": [
  {
   "cell_type": "code",
   "execution_count": 1,
   "metadata": {},
   "outputs": [
    {
     "name": "stdout",
     "output_type": "stream",
     "text": [
      "INFO:Created a temporary directory at /tmp/tmpekzz41a4\n",
      "INFO:Writing /tmp/tmpekzz41a4/_remote_module_non_scriptable.py\n",
      "WARNING:SoX could not be found!\n",
      "\n",
      "    If you do not have SoX, proceed here:\n",
      "     - - - http://sox.sourceforge.net/ - - -\n",
      "\n",
      "    If you do (or think that you should) have SoX, double-check your\n",
      "    path variables.\n",
      "    \n"
     ]
    },
    {
     "name": "stderr",
     "output_type": "stream",
     "text": [
      "/bin/sh: line 1: sox: command not found\n"
     ]
    }
   ],
   "source": [
    "# ------------------  set up logging ----------------------\n",
    "import logging\n",
    "from auditory_cortex.utils import set_up_logging\n",
    "set_up_logging('info')\n",
    "\n",
    "from auditory_cortex.plotters import tikzplots\n",
    "%matplotlib inline"
   ]
  },
  {
   "cell_type": "code",
   "execution_count": 2,
   "metadata": {},
   "outputs": [],
   "source": [
    "save_tikz=False\n",
    "threshold=1.0\n",
    "lag = 200"
   ]
  },
  {
   "cell_type": "markdown",
   "metadata": {},
   "source": [
    "### all models combined"
   ]
  },
  {
   "cell_type": "markdown",
   "metadata": {},
   "source": [
    "#### timit"
   ]
  },
  {
   "cell_type": "code",
   "execution_count": 3,
   "metadata": {},
   "outputs": [
    {
     "name": "stdout",
     "output_type": "stream",
     "text": [
      "INFO:Extracting column: normalized_test_cc\n",
      "INFO:Filtering 'normalizer' using multiple of 1.000 with std dev ...\n",
      "INFO:Extracting column: normalized_test_cc\n",
      "INFO:Filtering 'normalizer' using multiple of 1.000 with std dev ...\n"
     ]
    },
    {
     "name": "stderr",
     "output_type": "stream",
     "text": [
      "/tmp/ipykernel_1975425/2732471772.py:13: FutureWarning: arrays to stack must be passed as a \"sequence\" type such as list or tuple. Support for non-sequence iterables such as generators is deprecated as of NumPy 1.16 and will raise an error in the future.\n",
      "  tikzplots.plot_peak_layer_histograms_all_models(\n",
      "/tmp/ipykernel_1975425/2732471772.py:13: FutureWarning: arrays to stack must be passed as a \"sequence\" type such as list or tuple. Support for non-sequence iterables such as generators is deprecated as of NumPy 1.16 and will raise an error in the future.\n",
      "  tikzplots.plot_peak_layer_histograms_all_models(\n"
     ]
    },
    {
     "name": "stdout",
     "output_type": "stream",
     "text": [
      "INFO:Extracting column: normalized_test_cc\n",
      "INFO:Filtering 'normalizer' using multiple of 1.000 with std dev ...\n",
      "INFO:Extracting column: normalized_test_cc\n",
      "INFO:Filtering 'normalizer' using multiple of 1.000 with std dev ...\n"
     ]
    },
    {
     "name": "stderr",
     "output_type": "stream",
     "text": [
      "/tmp/ipykernel_1975425/2732471772.py:13: FutureWarning: arrays to stack must be passed as a \"sequence\" type such as list or tuple. Support for non-sequence iterables such as generators is deprecated as of NumPy 1.16 and will raise an error in the future.\n",
      "  tikzplots.plot_peak_layer_histograms_all_models(\n",
      "/tmp/ipykernel_1975425/2732471772.py:13: FutureWarning: arrays to stack must be passed as a \"sequence\" type such as list or tuple. Support for non-sequence iterables such as generators is deprecated as of NumPy 1.16 and will raise an error in the future.\n",
      "  tikzplots.plot_peak_layer_histograms_all_models(\n"
     ]
    },
    {
     "name": "stdout",
     "output_type": "stream",
     "text": [
      "INFO:Extracting column: normalized_test_cc\n",
      "INFO:Filtering 'normalizer' using multiple of 1.000 with std dev ...\n",
      "INFO:Extracting column: normalized_test_cc\n",
      "INFO:Filtering 'normalizer' using multiple of 1.000 with std dev ...\n"
     ]
    },
    {
     "name": "stderr",
     "output_type": "stream",
     "text": [
      "/tmp/ipykernel_1975425/2732471772.py:13: FutureWarning: arrays to stack must be passed as a \"sequence\" type such as list or tuple. Support for non-sequence iterables such as generators is deprecated as of NumPy 1.16 and will raise an error in the future.\n",
      "  tikzplots.plot_peak_layer_histograms_all_models(\n",
      "/tmp/ipykernel_1975425/2732471772.py:13: FutureWarning: arrays to stack must be passed as a \"sequence\" type such as list or tuple. Support for non-sequence iterables such as generators is deprecated as of NumPy 1.16 and will raise an error in the future.\n",
      "  tikzplots.plot_peak_layer_histograms_all_models(\n"
     ]
    },
    {
     "name": "stdout",
     "output_type": "stream",
     "text": [
      "INFO:Extracting column: normalized_test_cc\n",
      "INFO:Filtering 'normalizer' using multiple of 1.000 with std dev ...\n",
      "INFO:Extracting column: normalized_test_cc\n",
      "INFO:Filtering 'normalizer' using multiple of 1.000 with std dev ...\n"
     ]
    },
    {
     "name": "stderr",
     "output_type": "stream",
     "text": [
      "/tmp/ipykernel_1975425/2732471772.py:13: FutureWarning: arrays to stack must be passed as a \"sequence\" type such as list or tuple. Support for non-sequence iterables such as generators is deprecated as of NumPy 1.16 and will raise an error in the future.\n",
      "  tikzplots.plot_peak_layer_histograms_all_models(\n",
      "/tmp/ipykernel_1975425/2732471772.py:13: FutureWarning: arrays to stack must be passed as a \"sequence\" type such as list or tuple. Support for non-sequence iterables such as generators is deprecated as of NumPy 1.16 and will raise an error in the future.\n",
      "  tikzplots.plot_peak_layer_histograms_all_models(\n"
     ]
    },
    {
     "name": "stdout",
     "output_type": "stream",
     "text": [
      "INFO:Extracting column: normalized_test_cc\n",
      "INFO:Filtering 'normalizer' using multiple of 1.000 with std dev ...\n",
      "INFO:Extracting column: normalized_test_cc\n",
      "INFO:Filtering 'normalizer' using multiple of 1.000 with std dev ...\n"
     ]
    },
    {
     "name": "stderr",
     "output_type": "stream",
     "text": [
      "/tmp/ipykernel_1975425/2732471772.py:13: FutureWarning: arrays to stack must be passed as a \"sequence\" type such as list or tuple. Support for non-sequence iterables such as generators is deprecated as of NumPy 1.16 and will raise an error in the future.\n",
      "  tikzplots.plot_peak_layer_histograms_all_models(\n",
      "/tmp/ipykernel_1975425/2732471772.py:13: FutureWarning: arrays to stack must be passed as a \"sequence\" type such as list or tuple. Support for non-sequence iterables such as generators is deprecated as of NumPy 1.16 and will raise an error in the future.\n",
      "  tikzplots.plot_peak_layer_histograms_all_models(\n"
     ]
    },
    {
     "name": "stdout",
     "output_type": "stream",
     "text": [
      "INFO:Extracting column: normalized_test_cc\n",
      "INFO:Filtering 'normalizer' using multiple of 1.000 with std dev ...\n",
      "INFO:Extracting column: normalized_test_cc\n",
      "INFO:Filtering 'normalizer' using multiple of 1.000 with std dev ...\n",
      "INFO:Number of channels in core: 1416\n",
      "INFO:Number of channels in non-primary: 300\n"
     ]
    },
    {
     "name": "stderr",
     "output_type": "stream",
     "text": [
      "/tmp/ipykernel_1975425/2732471772.py:13: FutureWarning: arrays to stack must be passed as a \"sequence\" type such as list or tuple. Support for non-sequence iterables such as generators is deprecated as of NumPy 1.16 and will raise an error in the future.\n",
      "  tikzplots.plot_peak_layer_histograms_all_models(\n",
      "/tmp/ipykernel_1975425/2732471772.py:13: FutureWarning: arrays to stack must be passed as a \"sequence\" type such as list or tuple. Support for non-sequence iterables such as generators is deprecated as of NumPy 1.16 and will raise an error in the future.\n",
      "  tikzplots.plot_peak_layer_histograms_all_models(\n"
     ]
    },
    {
     "data": {
      "image/png": "[encoded data removed]",
      "text/plain": [
       "<Figure size 180x144 with 2 Axes>"
      ]
     },
     "metadata": {
      "needs_background": "light"
     },
     "output_type": "display_data"
    }
   ],
   "source": [
    "model_names = [\n",
    "\t'deepspeech2',\n",
    "\t'speech2text',\n",
    "\t'whisper_tiny',\n",
    "\t'whisper_base',\n",
    "\t'wav2vec2',\n",
    "\t'wav2letter_modified',\n",
    "\t]\n",
    "trained_identifier = f'ucsf_timit_trf_lags{lag}_bw50_ahmed_25'\n",
    "tikz_indicator = f'trf{lag}'\n",
    "bin_width = 50\n",
    "mVocs = False\n",
    "tikzplots.plot_peak_layer_histograms_all_models(\n",
    "\tmodel_names,\n",
    "\ttrained_identifier,\n",
    "\tbin_width=bin_width,\n",
    "\tmVocs=mVocs,\n",
    "\tthreshold=threshold,\n",
    "\tsave_tikz=save_tikz,\n",
    "    tikz_indicator=tikz_indicator,\n",
    "\tfontsize=20,\n",
    "\tfigsize=(2.5,2),\n",
    "\t)\n"
   ]
  },
  {
   "cell_type": "markdown",
   "metadata": {},
   "source": [
    "#### mVocs"
   ]
  },
  {
   "cell_type": "code",
   "execution_count": 4,
   "metadata": {},
   "outputs": [
    {
     "name": "stdout",
     "output_type": "stream",
     "text": [
      "INFO:Extracting column: mVocs_normalized_test_cc\n",
      "INFO:Filtering 'mVocs_normalizer' using multiple of 1.000 with std dev ...\n",
      "INFO:Extracting column: mVocs_normalized_test_cc\n",
      "INFO:Filtering 'mVocs_normalizer' using multiple of 1.000 with std dev ...\n"
     ]
    },
    {
     "name": "stderr",
     "output_type": "stream",
     "text": [
      "/tmp/ipykernel_1975425/3157188621.py:13: FutureWarning: arrays to stack must be passed as a \"sequence\" type such as list or tuple. Support for non-sequence iterables such as generators is deprecated as of NumPy 1.16 and will raise an error in the future.\n",
      "  tikzplots.plot_peak_layer_histograms_all_models(\n",
      "/tmp/ipykernel_1975425/3157188621.py:13: FutureWarning: arrays to stack must be passed as a \"sequence\" type such as list or tuple. Support for non-sequence iterables such as generators is deprecated as of NumPy 1.16 and will raise an error in the future.\n",
      "  tikzplots.plot_peak_layer_histograms_all_models(\n"
     ]
    },
    {
     "name": "stdout",
     "output_type": "stream",
     "text": [
      "INFO:Extracting column: mVocs_normalized_test_cc\n",
      "INFO:Filtering 'mVocs_normalizer' using multiple of 1.000 with std dev ...\n",
      "INFO:Extracting column: mVocs_normalized_test_cc\n",
      "INFO:Filtering 'mVocs_normalizer' using multiple of 1.000 with std dev ...\n"
     ]
    },
    {
     "name": "stderr",
     "output_type": "stream",
     "text": [
      "/tmp/ipykernel_1975425/3157188621.py:13: FutureWarning: arrays to stack must be passed as a \"sequence\" type such as list or tuple. Support for non-sequence iterables such as generators is deprecated as of NumPy 1.16 and will raise an error in the future.\n",
      "  tikzplots.plot_peak_layer_histograms_all_models(\n",
      "/tmp/ipykernel_1975425/3157188621.py:13: FutureWarning: arrays to stack must be passed as a \"sequence\" type such as list or tuple. Support for non-sequence iterables such as generators is deprecated as of NumPy 1.16 and will raise an error in the future.\n",
      "  tikzplots.plot_peak_layer_histograms_all_models(\n"
     ]
    },
    {
     "name": "stdout",
     "output_type": "stream",
     "text": [
      "INFO:Extracting column: mVocs_normalized_test_cc\n",
      "INFO:Filtering 'mVocs_normalizer' using multiple of 1.000 with std dev ...\n",
      "INFO:Extracting column: mVocs_normalized_test_cc\n",
      "INFO:Filtering 'mVocs_normalizer' using multiple of 1.000 with std dev ...\n"
     ]
    },
    {
     "name": "stderr",
     "output_type": "stream",
     "text": [
      "/tmp/ipykernel_1975425/3157188621.py:13: FutureWarning: arrays to stack must be passed as a \"sequence\" type such as list or tuple. Support for non-sequence iterables such as generators is deprecated as of NumPy 1.16 and will raise an error in the future.\n",
      "  tikzplots.plot_peak_layer_histograms_all_models(\n",
      "/tmp/ipykernel_1975425/3157188621.py:13: FutureWarning: arrays to stack must be passed as a \"sequence\" type such as list or tuple. Support for non-sequence iterables such as generators is deprecated as of NumPy 1.16 and will raise an error in the future.\n",
      "  tikzplots.plot_peak_layer_histograms_all_models(\n"
     ]
    },
    {
     "name": "stdout",
     "output_type": "stream",
     "text": [
      "INFO:Extracting column: mVocs_normalized_test_cc\n",
      "INFO:Filtering 'mVocs_normalizer' using multiple of 1.000 with std dev ...\n",
      "INFO:Extracting column: mVocs_normalized_test_cc\n",
      "INFO:Filtering 'mVocs_normalizer' using multiple of 1.000 with std dev ...\n"
     ]
    },
    {
     "name": "stderr",
     "output_type": "stream",
     "text": [
      "/tmp/ipykernel_1975425/3157188621.py:13: FutureWarning: arrays to stack must be passed as a \"sequence\" type such as list or tuple. Support for non-sequence iterables such as generators is deprecated as of NumPy 1.16 and will raise an error in the future.\n",
      "  tikzplots.plot_peak_layer_histograms_all_models(\n",
      "/tmp/ipykernel_1975425/3157188621.py:13: FutureWarning: arrays to stack must be passed as a \"sequence\" type such as list or tuple. Support for non-sequence iterables such as generators is deprecated as of NumPy 1.16 and will raise an error in the future.\n",
      "  tikzplots.plot_peak_layer_histograms_all_models(\n"
     ]
    },
    {
     "name": "stdout",
     "output_type": "stream",
     "text": [
      "INFO:Extracting column: mVocs_normalized_test_cc\n",
      "INFO:Filtering 'mVocs_normalizer' using multiple of 1.000 with std dev ...\n",
      "INFO:Extracting column: mVocs_normalized_test_cc\n",
      "INFO:Filtering 'mVocs_normalizer' using multiple of 1.000 with std dev ...\n"
     ]
    },
    {
     "name": "stderr",
     "output_type": "stream",
     "text": [
      "/tmp/ipykernel_1975425/3157188621.py:13: FutureWarning: arrays to stack must be passed as a \"sequence\" type such as list or tuple. Support for non-sequence iterables such as generators is deprecated as of NumPy 1.16 and will raise an error in the future.\n",
      "  tikzplots.plot_peak_layer_histograms_all_models(\n",
      "/tmp/ipykernel_1975425/3157188621.py:13: FutureWarning: arrays to stack must be passed as a \"sequence\" type such as list or tuple. Support for non-sequence iterables such as generators is deprecated as of NumPy 1.16 and will raise an error in the future.\n",
      "  tikzplots.plot_peak_layer_histograms_all_models(\n"
     ]
    },
    {
     "name": "stdout",
     "output_type": "stream",
     "text": [
      "INFO:Extracting column: mVocs_normalized_test_cc\n",
      "INFO:Filtering 'mVocs_normalizer' using multiple of 1.000 with std dev ...\n",
      "INFO:Extracting column: mVocs_normalized_test_cc\n",
      "INFO:Filtering 'mVocs_normalizer' using multiple of 1.000 with std dev ...\n",
      "INFO:Number of channels in core: 1548\n",
      "INFO:Number of channels in non-primary: 612\n"
     ]
    },
    {
     "name": "stderr",
     "output_type": "stream",
     "text": [
      "/tmp/ipykernel_1975425/3157188621.py:13: FutureWarning: arrays to stack must be passed as a \"sequence\" type such as list or tuple. Support for non-sequence iterables such as generators is deprecated as of NumPy 1.16 and will raise an error in the future.\n",
      "  tikzplots.plot_peak_layer_histograms_all_models(\n",
      "/tmp/ipykernel_1975425/3157188621.py:13: FutureWarning: arrays to stack must be passed as a \"sequence\" type such as list or tuple. Support for non-sequence iterables such as generators is deprecated as of NumPy 1.16 and will raise an error in the future.\n",
      "  tikzplots.plot_peak_layer_histograms_all_models(\n"
     ]
    },
    {
     "data": {
      "image/png": "[encoded data removed]",
      "text/plain": [
       "<Figure size 180x144 with 2 Axes>"
      ]
     },
     "metadata": {
      "needs_background": "light"
     },
     "output_type": "display_data"
    }
   ],
   "source": [
    "model_names = [\n",
    "\t'deepspeech2',\n",
    "\t'speech2text',\n",
    "\t'whisper_tiny',\n",
    "\t'whisper_base',\n",
    "\t'wav2vec2',\n",
    "\t'wav2letter_modified',\n",
    "\t]\n",
    "trained_identifier = f'ucsf_mVocs_trf_lags{lag}_bw50_ahmed_25'\n",
    "tikz_indicator = f'trf{lag}'\n",
    "bin_width = 50\n",
    "mVocs = True\n",
    "tikzplots.plot_peak_layer_histograms_all_models(\n",
    "\tmodel_names,\n",
    "\ttrained_identifier,\n",
    "\tbin_width=bin_width,\n",
    "\tmVocs=mVocs,\n",
    "\tthreshold = threshold,\n",
    "\tsave_tikz=save_tikz,\n",
    "    tikz_indicator=tikz_indicator,\n",
    "\tfontsize=20,\n",
    "\tfigsize=(2.5,2),\n",
    "\t)"
   ]
  },
  {
   "cell_type": "code",
   "execution_count": null,
   "metadata": {},
   "outputs": [],
   "source": []
  }
 ],
 "metadata": {
  "kernelspec": {
   "display_name": "Python 3",
   "language": "python",
   "name": "python3"
  },
  "language_info": {
   "codemirror_mode": {
    "name": "ipython",
    "version": 3
   },
   "file_extension": ".py",
   "mimetype": "text/x-python",
   "name": "python",
   "nbconvert_exporter": "python",
   "pygments_lexer": "ipython3",
   "version": "3.8.5"
  }
 },
 "nbformat": 4,
 "nbformat_minor": 2
}
