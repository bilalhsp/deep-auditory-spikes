{
 "cells": [
  {
   "cell_type": "code",
   "execution_count": 1,
   "id": "b8bd81d2",
   "metadata": {},
   "outputs": [],
   "source": [
    "# ------------------  set up logging ----------------------\n",
    "import logging\n",
    "from auditory_cortex.utils import set_up_logging\n",
    "set_up_logging()\n",
    "\n",
    "import os\n",
    "from scipy import stats\n",
    "from scipy.stats import mannwhitneyu\n",
    "import numpy as np\n",
    "import matplotlib.pyplot as plt\n",
    "from auditory_cortex.neural_data import NormalizerCalculator\n",
    "from auditory_cortex.neural_data import create_neural_metadata\n",
    "from auditory_cortex import results_dir\n",
    "from auditory_cortex.plotters.plotter_utils import PlotterUtils"
   ]
  },
  {
   "cell_type": "code",
   "execution_count": 2,
   "id": "8e57b8c9",
   "metadata": {},
   "outputs": [],
   "source": [
    "dataset_name = 'ucsf'\n",
    "metadata = create_neural_metadata(dataset_name)\n",
    "sessions = metadata.get_all_available_sessions()\n",
    "norm_obj = NormalizerCalculator(dataset_name)"
   ]
  },
  {
   "cell_type": "code",
   "execution_count": 3,
   "id": "8eb7bea1",
   "metadata": {},
   "outputs": [
    {
     "name": "stdout",
     "output_type": "stream",
     "text": [
      "INFO:Getting normalizer dist. for sess-180413, bw-50, mVocs=False\n",
      "INFO:Getting normalizer dist. for sess-180420, bw-50, mVocs=False\n",
      "INFO:Getting normalizer dist. for sess-180501, bw-50, mVocs=False\n",
      "INFO:Getting normalizer dist. for sess-180502, bw-50, mVocs=False\n",
      "INFO:Getting normalizer dist. for sess-180613, bw-50, mVocs=False\n",
      "INFO:Getting normalizer dist. for sess-180622, bw-50, mVocs=False\n",
      "INFO:Getting normalizer dist. for sess-180627, bw-50, mVocs=False\n",
      "INFO:Getting normalizer dist. for sess-180717, bw-50, mVocs=False\n",
      "INFO:Getting normalizer dist. for sess-180719, bw-50, mVocs=False\n",
      "INFO:Getting normalizer dist. for sess-180720, bw-50, mVocs=False\n",
      "INFO:Getting normalizer dist. for sess-180724, bw-50, mVocs=False\n",
      "INFO:Getting normalizer dist. for sess-180728, bw-50, mVocs=False\n",
      "INFO:Getting normalizer dist. for sess-180730, bw-50, mVocs=False\n",
      "INFO:Getting normalizer dist. for sess-180731, bw-50, mVocs=False\n",
      "INFO:Getting normalizer dist. for sess-180807, bw-50, mVocs=False\n",
      "INFO:Getting normalizer dist. for sess-180808, bw-50, mVocs=False\n",
      "INFO:Getting normalizer dist. for sess-180810, bw-50, mVocs=False\n",
      "INFO:Getting normalizer dist. for sess-180814, bw-50, mVocs=False\n",
      "INFO:Getting normalizer dist. for sess-190604, bw-50, mVocs=False\n",
      "INFO:Getting normalizer dist. for sess-190605, bw-50, mVocs=False\n",
      "INFO:Getting normalizer dist. for sess-190606, bw-50, mVocs=False\n",
      "INFO:Getting normalizer dist. for sess-190703, bw-50, mVocs=False\n",
      "INFO:Getting normalizer dist. for sess-190726, bw-50, mVocs=False\n",
      "INFO:Getting normalizer dist. for sess-190801, bw-50, mVocs=False\n",
      "INFO:Getting normalizer dist. for sess-191113, bw-50, mVocs=False\n",
      "INFO:Getting normalizer dist. for sess-191115, bw-50, mVocs=False\n",
      "INFO:Getting normalizer dist. for sess-191121, bw-50, mVocs=False\n",
      "INFO:Getting normalizer dist. for sess-191125, bw-50, mVocs=False\n",
      "INFO:Getting normalizer dist. for sess-191206, bw-50, mVocs=False\n",
      "INFO:Getting normalizer dist. for sess-191209, bw-50, mVocs=False\n",
      "INFO:Getting normalizer dist. for sess-191210, bw-50, mVocs=False\n",
      "INFO:Getting normalizer dist. for sess-191211, bw-50, mVocs=False\n",
      "INFO:Getting normalizer dist. for sess-191219, bw-50, mVocs=False\n",
      "INFO:Getting normalizer dist. for sess-200205, bw-50, mVocs=False\n",
      "INFO:Getting normalizer dist. for sess-200206, bw-50, mVocs=False\n",
      "INFO:Getting normalizer dist. for sess-200207, bw-50, mVocs=False\n",
      "INFO:Getting normalizer dist. for sess-200212, bw-50, mVocs=False\n",
      "INFO:Getting normalizer dist. for sess-200213, bw-50, mVocs=False\n",
      "INFO:Getting normalizer dist. for sess-200219, bw-50, mVocs=False\n",
      "INFO:Getting normalizer dist. for sess-200313, bw-50, mVocs=False\n",
      "INFO:Getting normalizer dist. for sess-200318, bw-50, mVocs=False\n"
     ]
    }
   ],
   "source": [
    "# read all the normalizer and null distributions\n",
    "bin_width = 50\n",
    "mVocs = False\n",
    "p_value = 0.05\n",
    "tuned_channels = []\n",
    "all_p_values = []\n",
    "highly_tuned_channels = []\n",
    "session_null_dist = {}\n",
    "session_norm_dist = {}\n",
    "for session in sessions:\n",
    "    norm_dist, null_dist = norm_obj.get_inter_trial_corr_dists_for_session(\n",
    "        session, bin_width=bin_width, mVocs=mVocs, force_redo=False\n",
    "    )\n",
    "     \n",
    "    session_null_dist[session] = null_dist\n",
    "    session_norm_dist[session] = norm_dist\n",
    " "
   ]
  },
  {
   "cell_type": "markdown",
   "id": "414ff6ed",
   "metadata": {},
   "source": [
    "### highly-tuned channels as a function of gap"
   ]
  },
  {
   "cell_type": "code",
   "execution_count": 4,
   "id": "6f211e0f",
   "metadata": {},
   "outputs": [
    {
     "name": "stdout",
     "output_type": "stream",
     "text": [
      "Total channels: 1718\n"
     ]
    }
   ],
   "source": [
    "# identify tuned neurons at different thresholds\n",
    "tuned_channels = []\n",
    "all_p_values = []\n",
    "highly_tuned_channels = []\n",
    "std_deviations_away = np.linspace(0, 2.5, 26)\n",
    "total_highly_tuned = {s:0 for s in std_deviations_away}\n",
    "total_highly_tuned_medians = {s:0 for s in std_deviations_away}\n",
    "total_channels = 0\n",
    "\n",
    "exact_gap_sess_channels = {gap: {} for gap in std_deviations_away}\n",
    "for session in sessions:\n",
    "    norm_dist = session_norm_dist[session]\n",
    "    null_dist = session_null_dist[session]\n",
    "\n",
    "    norm_means = np.array([np.mean(dist) for ch, dist in norm_dist.items()])\n",
    "    null_means = np.array([np.mean(dist) for ch, dist in null_dist.items()])\n",
    "\n",
    "    norm_medians = np.array([np.median(dist) for ch, dist in norm_dist.items()])\n",
    "    null_medians = np.array([np.median(dist) for ch, dist in null_dist.items()])\n",
    "\n",
    "    null_std = np.array([np.std(dist) for ch, dist in null_dist.items()])\n",
    "    total_channels += len(null_std)\n",
    "\n",
    "    for s in std_deviations_away:\n",
    "        thresh = null_means + (s * null_std)\n",
    "        highly_tuned = np.where(norm_means > thresh)[0]\n",
    "        total_highly_tuned[s] += len(highly_tuned)\n",
    "\n",
    "        diff = np.abs(norm_means - thresh)\n",
    "        highly_tuned = np.where(diff<0.01)[0]\n",
    "        if len(highly_tuned) > 0:\n",
    "            exact_gap_sess_channels[s][session] = highly_tuned\n",
    "     \n",
    "        thresh = null_medians + (s * null_std)\n",
    "        highly_tuned = np.where(norm_medians > thresh)[0]\n",
    "        total_highly_tuned_medians[s] += len(highly_tuned)\n",
    "\n",
    "\n",
    "print(f\"Total channels: {total_channels}\")"
   ]
  },
  {
   "cell_type": "code",
   "execution_count": 5,
   "id": "3179891b",
   "metadata": {},
   "outputs": [
    {
     "data": {
      "image/png": "[encoded data removed]",
      "text/plain": [
       "<Figure size 432x288 with 1 Axes>"
      ]
     },
     "metadata": {
      "needs_background": "light"
     },
     "output_type": "display_data"
    }
   ],
   "source": [
    "save_tikz=False\n",
    "plt.plot(\n",
    "    std_deviations_away, [total_highly_tuned[s] for s in std_deviations_away], marker='o', ms=2,\n",
    "    color='blue', label='Mean'\n",
    "    )\n",
    "plt.plot(\n",
    "    std_deviations_away, [total_highly_tuned_medians[s] for s in std_deviations_away], marker='o', ms=2,\n",
    "    color='orange', label='Median'\n",
    "    )\n",
    "plt.xlabel('Gap ($\\delta$)')\n",
    "plt.ylabel('Number of Channels')\n",
    "plt.title('Channels having Normalizer mean > Null Mean + n*Std Devs')\n",
    "plt.legend()\n",
    "\n",
    "stim = 'mVocs' if mVocs else 'timit'\n",
    "if save_tikz:\n",
    "    filepath = os.path.join(\n",
    "        results_dir,\n",
    "        'tikz_plots',\n",
    "        f\"highly-tuned-channels--bw-{bin_width}-{stim}.tex\"\n",
    "        )\n",
    "    PlotterUtils.save_tikz(filepath)"
   ]
  },
  {
   "cell_type": "markdown",
   "id": "824efa38",
   "metadata": {},
   "source": [
    "### channels at exact gap"
   ]
  },
  {
   "cell_type": "code",
   "execution_count": 6,
   "id": "4a52ab04",
   "metadata": {},
   "outputs": [
    {
     "name": "stdout",
     "output_type": "stream",
     "text": [
      "At gap: 0.1\n",
      "Randomly selected channel: 191219-60\n",
      "At gap: 0.5\n",
      "Randomly selected channel: 190604-63\n",
      "At gap: 1.0\n",
      "Randomly selected channel: 180627-6\n"
     ]
    }
   ],
   "source": [
    "gaps = [0.1, 0.5, 1.0]\n",
    "selected_sess_ch = {}\n",
    "sess_ch_gaps = {}\n",
    "for gap in gaps:\n",
    "    rand_sess = np.random.choice(list(exact_gap_sess_channels[gap].keys()))\n",
    "    rand_ch = np.random.choice(exact_gap_sess_channels[gap][rand_sess])\n",
    "\n",
    "    if rand_sess in selected_sess_ch.keys():\n",
    "        selected_sess_ch[rand_sess].append(rand_ch)\n",
    "    else:\n",
    "        selected_sess_ch[rand_sess] = [rand_ch]\n",
    "    sess_ch_gaps[f\"{rand_sess}-{rand_ch}\"] = gap\n",
    "    print(f\"At gap: {gap}\")\n",
    "    print(f\"Randomly selected channel: {rand_sess}-{rand_ch}\")"
   ]
  },
  {
   "cell_type": "code",
   "execution_count": 7,
   "id": "74dde68b",
   "metadata": {},
   "outputs": [
    {
     "name": "stdout",
     "output_type": "stream",
     "text": [
      "Session: 191219\n",
      "Channel: 60\n"
     ]
    },
    {
     "data": {
      "image/png": "[encoded data removed]",
      "text/plain": [
       "<Figure size 432x288 with 1 Axes>"
      ]
     },
     "metadata": {
      "needs_background": "light"
     },
     "output_type": "display_data"
    },
    {
     "name": "stdout",
     "output_type": "stream",
     "text": [
      "Session: 190604\n",
      "Channel: 63\n"
     ]
    },
    {
     "data": {
      "image/png": "[encoded data removed]",
      "text/plain": [
       "<Figure size 432x288 with 1 Axes>"
      ]
     },
     "metadata": {
      "needs_background": "light"
     },
     "output_type": "display_data"
    },
    {
     "name": "stdout",
     "output_type": "stream",
     "text": [
      "Session: 180627\n",
      "Channel: 6\n"
     ]
    },
    {
     "data": {
      "image/png": "[encoded data removed]",
      "text/plain": [
       "<Figure size 432x288 with 1 Axes>"
      ]
     },
     "metadata": {
      "needs_background": "light"
     },
     "output_type": "display_data"
    }
   ],
   "source": [
    "alpha = 0.5\n",
    "bins = 100\n",
    "save_tikz = False\n",
    "for sess in selected_sess_ch.keys():\n",
    "    print(f\"Session: {sess}\")\n",
    "    channels = selected_sess_ch[sess]\n",
    "    for ch in channels:\n",
    "        print(f\"Channel: {ch}\")\n",
    "        # plt.figure(figsize=(2, 2.5))\n",
    "        plt.hist(session_norm_dist[sess][ch], color='tab:blue', alpha=alpha, bins=bins, label='trial-trial dist.')\n",
    "        plt.hist(session_null_dist[sess][ch], color='gray', alpha=alpha, bins=bins, label='null dist.')\n",
    "        plt.axvline(np.mean(session_norm_dist[sess][ch]), color='tab:blue', linestyle='--')\n",
    "        plt.axvline(np.mean(session_null_dist[sess][ch]), color='gray', linestyle='--')\n",
    "\n",
    "        plt.xlim(-0.3, 1.0)\n",
    "        plt.title(f'{sess}-{ch}')\n",
    "        plt.xlabel(f\"$\\\\rho$\")\n",
    "        plt.ylabel('Count')\n",
    "        plt.legend()\n",
    "        if save_tikz:\n",
    "            gap = sess_ch_gaps[f\"{sess}-{ch}\"]\n",
    "            filepath = os.path.join(\n",
    "                results_dir,\n",
    "                'tikz_plots',\n",
    "                f\"norm-dist-gap-{gap}.tex\"\n",
    "                )\n",
    "            PlotterUtils.save_tikz(filepath)\n",
    "        plt.show()\n",
    "        "
   ]
  },
  {
   "cell_type": "code",
   "execution_count": null,
   "id": "307c8a6c",
   "metadata": {},
   "outputs": [],
   "source": []
  }
 ],
 "metadata": {
  "kernelspec": {
   "display_name": "Python 3",
   "language": "python",
   "name": "python3"
  },
  "language_info": {
   "codemirror_mode": {
    "name": "ipython",
    "version": 3
   },
   "file_extension": ".py",
   "mimetype": "text/x-python",
   "name": "python",
   "nbconvert_exporter": "python",
   "pygments_lexer": "ipython3",
   "version": "3.8.5"
  }
 },
 "nbformat": 4,
 "nbformat_minor": 5
}
